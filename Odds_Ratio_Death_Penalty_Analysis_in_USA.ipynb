{
 "cells": [
  {
   "cell_type": "markdown",
   "metadata": {},
   "source": [
    "Bu analiz,\n",
    "1977'den bugune kadar USA'de islenen cinayetlerin;\n",
    "sanigin, kurbanin irkina ve sanigin olum cezasi alip almamasina gore Odds Orani ile degerlendirilmesini kapsar."
   ]
  },
  {
   "cell_type": "code",
   "execution_count": null,
   "metadata": {},
   "outputs": [],
   "source": [
    "import pandas as pd\n",
    "import numpy as np\n",
    "import scipy.stats as stats"
   ]
  },
  {
   "cell_type": "code",
   "execution_count": null,
   "metadata": {},
   "outputs": [],
   "source": [
    "#https://deathpenaltyinfo.org/policy-issues/race\n",
    "df1=pd.read_csv('data1.csv', encoding='utf-8', sep=';')"
   ]
  },
  {
   "cell_type": "code",
   "execution_count": null,
   "metadata": {},
   "outputs": [],
   "source": [
    "df1.head()"
   ]
  },
  {
   "cell_type": "markdown",
   "metadata": {},
   "source": [
    "Sadece sanigin ve kurbanin irkinin siyah ve beyaz olmasi ve sanigin olum cezasi alip almayacagi ile ilgilendigimizden diger sutunlari dikkate almayacagiz. "
   ]
  },
  {
   "cell_type": "code",
   "execution_count": null,
   "metadata": {},
   "outputs": [],
   "source": [
    "k=df1.loc[df1['Race of Victims (Multiple races including white)'].isin(['Black', 'White']) & \n",
    "       df1['Race'].isin(['Black', 'White'])]"
   ]
  },
  {
   "cell_type": "code",
   "execution_count": null,
   "metadata": {},
   "outputs": [],
   "source": [
    "df=pd.crosstab([k['Race of Victims (Multiple races including white)'],k['Race'],k['Execution Volunteer']], k['Table Name'])"
   ]
  },
  {
   "cell_type": "code",
   "execution_count": null,
   "metadata": {},
   "outputs": [],
   "source": [
    "df"
   ]
  },
  {
   "cell_type": "code",
   "execution_count": null,
   "metadata": {},
   "outputs": [],
   "source": [
    "df=df.reset_index()"
   ]
  },
  {
   "cell_type": "code",
   "execution_count": null,
   "metadata": {},
   "outputs": [],
   "source": [
    "df"
   ]
  },
  {
   "cell_type": "code",
   "execution_count": null,
   "metadata": {},
   "outputs": [],
   "source": [
    "table1=pd.crosstab(df[\"Race\"],df[\"Race of Victims (Multiple races including white)\"], values=df.ExecutionsPS, aggfunc='sum')"
   ]
  },
  {
   "cell_type": "code",
   "execution_count": null,
   "metadata": {},
   "outputs": [],
   "source": [
    "table2=pd.crosstab(df[\"Race\"],df[\"Execution Volunteer\"], values=df.ExecutionsPS, aggfunc='sum')"
   ]
  },
  {
   "cell_type": "code",
   "execution_count": null,
   "metadata": {},
   "outputs": [],
   "source": [
    "table3=pd.crosstab(df[\"Race of Victims (Multiple races including white)\"],df[\"Execution Volunteer\"], values=df.ExecutionsPS, aggfunc='sum')"
   ]
  },
  {
   "cell_type": "code",
   "execution_count": null,
   "metadata": {},
   "outputs": [],
   "source": [
    "table1=table1.to_numpy();\n",
    "table2=table2.to_numpy();\n",
    "table3=table3.to_numpy();"
   ]
  },
  {
   "cell_type": "code",
   "execution_count": null,
   "metadata": {},
   "outputs": [],
   "source": [
    "print(table1)"
   ]
  },
  {
   "cell_type": "code",
   "execution_count": null,
   "metadata": {},
   "outputs": [],
   "source": [
    "oddsratio, pvalue = stats.fisher_exact(table1)\n",
    "print(\"OddsR: \", oddsratio, \"p-Value:\", pvalue)"
   ]
  },
  {
   "cell_type": "code",
   "execution_count": null,
   "metadata": {},
   "outputs": [],
   "source": [
    "print('Sanigin irki biliniyorken kurbanin irkinin beyaz olmasi olasiligi siyah olmasi olasiliginin ' \n",
    "      + str(oddsratio.round(2))+ \n",
    "      ' katidir.')"
   ]
  },
  {
   "cell_type": "code",
   "execution_count": null,
   "metadata": {},
   "outputs": [],
   "source": [
    "print(table2)"
   ]
  },
  {
   "cell_type": "code",
   "execution_count": null,
   "metadata": {},
   "outputs": [],
   "source": [
    "oddsratio, pvalue = stats.fisher_exact(table2)\n",
    "print(\"OddsR: \", oddsratio, \"p-Value:\", pvalue)"
   ]
  },
  {
   "cell_type": "code",
   "execution_count": null,
   "metadata": {},
   "outputs": [],
   "source": [
    "print('Sanigin olum cezasi karari bilindiginde beyaz irkli saniklarin orani siyah irkli saniklarin oraninin ' \n",
    "      + str(oddsratio.round(2))+ \n",
    "      ' katidir.')"
   ]
  },
  {
   "cell_type": "code",
   "execution_count": null,
   "metadata": {},
   "outputs": [],
   "source": [
    "print(table3)"
   ]
  },
  {
   "cell_type": "code",
   "execution_count": null,
   "metadata": {},
   "outputs": [],
   "source": [
    "oddsratio, pvalue = stats.fisher_exact(table3)\n",
    "print(\"OddsR: \", oddsratio, \"p-Value:\", pvalue)"
   ]
  },
  {
   "cell_type": "code",
   "execution_count": null,
   "metadata": {},
   "outputs": [],
   "source": [
    "print('Sanigin olum cezasi karari bilindiginde kurbanin beyaz olma olasiligi siyah olmasi olasiliginin ' \n",
    "      + str(oddsratio.round(2))+ \n",
    "      ' katidir.')"
   ]
  },
  {
   "cell_type": "markdown",
   "metadata": {},
   "source": [
    "# Sanigin Irki Sabit Tutuldugunda"
   ]
  },
  {
   "cell_type": "code",
   "execution_count": null,
   "metadata": {},
   "outputs": [],
   "source": [
    "sanik_beyaz_ise=df.loc[df[\"Race\"]=='White'];\n",
    "table4=pd.crosstab(sanik_beyaz_ise[\"Race of Victims (Multiple races including white)\"],sanik_beyaz_ise[\"Execution Volunteer\"], values=sanik_beyaz_ise.ExecutionsPS, aggfunc='sum');\n",
    "table4=table4.to_numpy();\n",
    "table4=table4+1;\n",
    "oddsratio, pvalue = stats.fisher_exact(table4)\n",
    "print(\"OddsR: \", oddsratio, \"p-Value:\", pvalue);"
   ]
  },
  {
   "cell_type": "code",
   "execution_count": null,
   "metadata": {},
   "outputs": [],
   "source": [
    "table4"
   ]
  },
  {
   "cell_type": "code",
   "execution_count": null,
   "metadata": {},
   "outputs": [],
   "source": [
    "print('Sanigin beyaz oldugu ve olum cezasi karari biliniyorken kurbanin beyaz olmasi siyah olmasi olasiliginin ' \n",
    "      + str(oddsratio.round(2))+ \n",
    "      ' katidir.')"
   ]
  },
  {
   "cell_type": "code",
   "execution_count": null,
   "metadata": {},
   "outputs": [],
   "source": [
    "sanik_siyah_ise=df.loc[df[\"Race\"]=='Black'];\n",
    "table5=pd.crosstab(sanik_siyah_ise[\"Race of Victims (Multiple races including white)\"],sanik_siyah_ise[\"Execution Volunteer\"], values=sanik_siyah_ise.ExecutionsPS, aggfunc='sum');\n",
    "table5=table5.to_numpy();\n",
    "oddsratio, pvalue = stats.fisher_exact(table5)\n",
    "print(\"OddsR: \", oddsratio, \"p-Value:\", pvalue);"
   ]
  },
  {
   "cell_type": "code",
   "execution_count": null,
   "metadata": {},
   "outputs": [],
   "source": [
    "print('Sanigin siyah oldugu ve olum cezasi karari biliniyorken kurbanin beyaz olmasi siyah olmasi olasiliginin ' \n",
    "      + str(oddsratio.round(2))+ \n",
    "      ' katidir.')"
   ]
  },
  {
   "cell_type": "markdown",
   "metadata": {},
   "source": [
    "# Kurbanin Irki Sabit Tutuldugunda"
   ]
  },
  {
   "cell_type": "code",
   "execution_count": null,
   "metadata": {},
   "outputs": [],
   "source": [
    "kurban_beyaz_ise=df.loc[df[\"Race of Victims (Multiple races including white)\"]=='White']\n",
    "table6=pd.crosstab(df[\"Race\"],df[\"Execution Volunteer\"], values=df.ExecutionsPS, aggfunc='sum');\n",
    "table6=table6.to_numpy();\n",
    "oddsratio, pvalue = stats.fisher_exact(table6)\n",
    "print(\"OddsR: \", oddsratio, \"p-Value:\", pvalue);"
   ]
  },
  {
   "cell_type": "code",
   "execution_count": null,
   "metadata": {},
   "outputs": [],
   "source": [
    "table6"
   ]
  },
  {
   "cell_type": "code",
   "execution_count": null,
   "metadata": {},
   "outputs": [],
   "source": [
    "print('Kurbanin beyaz oldugu ve sanigin olum cezasi karari bilindiginde sanigin beyaz olmasi siyah olma olasikliginin ' \n",
    "      + str(oddsratio.round(2))+ \n",
    "      ' katidir.')"
   ]
  },
  {
   "cell_type": "code",
   "execution_count": null,
   "metadata": {},
   "outputs": [],
   "source": [
    "kurban_siyah_ise=df.loc[df[\"Race of Victims (Multiple races including white)\"]=='Black']\n",
    "table7=pd.crosstab(kurban_siyah_ise[\"Race\"],kurban_siyah_ise[\"Execution Volunteer\"], values=kurban_siyah_ise.ExecutionsPS, aggfunc='sum');\n",
    "table7=table7.to_numpy();\n",
    "oddsratio, pvalue = stats.fisher_exact(table7)\n",
    "print(\"OddsR: \", oddsratio, \"p-Value:\", pvalue);"
   ]
  },
  {
   "cell_type": "code",
   "execution_count": null,
   "metadata": {},
   "outputs": [],
   "source": [
    "table7"
   ]
  },
  {
   "cell_type": "code",
   "execution_count": null,
   "metadata": {},
   "outputs": [],
   "source": [
    "print('Kurbanin siyah oldugu ve sanigin olum cezasi karari bilindiginde sanigin beyaz olmasi siyah olma olasikliginin ' \n",
    "      + str(oddsratio.round(2))+ \n",
    "      ' katidir.')"
   ]
  },
  {
   "cell_type": "markdown",
   "metadata": {},
   "source": [
    "# Olum Cezasi Sabit Tutuldugunda"
   ]
  },
  {
   "cell_type": "code",
   "execution_count": null,
   "metadata": {},
   "outputs": [],
   "source": [
    "olum_cezasi_aldi_ise=df.loc[df[\"Execution Volunteer\"]=='Volunteer']\n",
    "table8=pd.crosstab(olum_cezasi_aldi_ise[\"Race\"],olum_cezasi_aldi_ise[\"Race of Victims (Multiple races including white)\"], values=olum_cezasi_aldi_ise.ExecutionsPS, aggfunc='sum');\n",
    "table8=table8.to_numpy();\n",
    "table8=table8+0.5;\n",
    "oddsratio, pvalue = stats.fisher_exact(table8)\n",
    "print(\"OddsR: \", oddsratio, \"p-Value:\", pvalue);"
   ]
  },
  {
   "cell_type": "code",
   "execution_count": null,
   "metadata": {},
   "outputs": [],
   "source": [
    "table8"
   ]
  },
  {
   "cell_type": "code",
   "execution_count": null,
   "metadata": {},
   "outputs": [],
   "source": [
    "print('Sanigin olum cezasi aldigi ve irkinin beyaz oldugu biliniyorken kurbanin beyaz olma olasiligi  ' \n",
    "      + str(oddsratio.round(2))+ \n",
    "      ' katidir.')"
   ]
  },
  {
   "cell_type": "code",
   "execution_count": null,
   "metadata": {},
   "outputs": [],
   "source": [
    "olum_cezasi_almadi_ise=df.loc[df[\"Execution Volunteer\"]=='Not a Volunteer']\n",
    "table9=pd.crosstab(olum_cezasi_almadi_ise[\"Race\"],olum_cezasi_almadi_ise[\"Race of Victims (Multiple races including white)\"], values=olum_cezasi_almadi_ise.ExecutionsPS, aggfunc='sum');\n",
    "table9=table9.to_numpy();\n",
    "oddsratio, pvalue = stats.fisher_exact(table9)\n",
    "print(\"OddsR: \", oddsratio, \"p-Value:\", pvalue);"
   ]
  },
  {
   "cell_type": "code",
   "execution_count": null,
   "metadata": {},
   "outputs": [],
   "source": [
    "table9"
   ]
  },
  {
   "cell_type": "code",
   "execution_count": null,
   "metadata": {},
   "outputs": [],
   "source": [
    "print('Sanigin olum cezasi aldigi ve irkinin beyaz oldugu biliniyorken kurbanin siyah olma olasiligi  ' \n",
    "      + str(oddsratio.round(2))+ \n",
    "      ' katidir.')"
   ]
  }
 ],
 "metadata": {
  "kernelspec": {
   "display_name": "Python 3",
   "language": "python",
   "name": "python3"
  },
  "language_info": {
   "codemirror_mode": {
    "name": "ipython",
    "version": 3
   },
   "file_extension": ".py",
   "mimetype": "text/x-python",
   "name": "python",
   "nbconvert_exporter": "python",
   "pygments_lexer": "ipython3",
   "version": "3.7.6"
  }
 },
 "nbformat": 4,
 "nbformat_minor": 4
}
