{
 "cells": [
  {
   "cell_type": "markdown",
   "metadata": {},
   "source": [
    "Bu analiz,\n",
    "1977'den bugune kadar USA'de islenen cinayetlerin;\n",
    "sanigin, kurbanin irkina ve sanigin olum cezasi alip almamasina gore Odds Orani ile degerlendirilmesini kapsar."
   ]
  },
  {
   "cell_type": "code",
   "execution_count": 1,
   "metadata": {},
   "outputs": [],
   "source": [
    "import pandas as pd\n",
    "import numpy as np\n",
    "import scipy.stats as stats"
   ]
  },
  {
   "cell_type": "code",
   "execution_count": 2,
   "metadata": {},
   "outputs": [],
   "source": [
    "#https://deathpenaltyinfo.org/policy-issues/race\n",
    "df1=pd.read_csv('data1.csv', encoding='utf-8', sep=';')"
   ]
  },
  {
   "cell_type": "code",
   "execution_count": 3,
   "metadata": {},
   "outputs": [
    {
     "data": {
      "text/html": [
       "<div>\n",
       "<style scoped>\n",
       "    .dataframe tbody tr th:only-of-type {\n",
       "        vertical-align: middle;\n",
       "    }\n",
       "\n",
       "    .dataframe tbody tr th {\n",
       "        vertical-align: top;\n",
       "    }\n",
       "\n",
       "    .dataframe thead th {\n",
       "        text-align: right;\n",
       "    }\n",
       "</style>\n",
       "<table border=\"1\" class=\"dataframe\">\n",
       "  <thead>\n",
       "    <tr style=\"text-align: right;\">\n",
       "      <th></th>\n",
       "      <th>Race of Victims (Multiple races including white)</th>\n",
       "      <th>State</th>\n",
       "      <th>Race</th>\n",
       "      <th>Execution Volunteer</th>\n",
       "      <th>Foreign National</th>\n",
       "      <th>Region</th>\n",
       "      <th>Sex</th>\n",
       "      <th>Table Name</th>\n",
       "    </tr>\n",
       "  </thead>\n",
       "  <tbody>\n",
       "    <tr>\n",
       "      <th>0</th>\n",
       "      <td>White</td>\n",
       "      <td>Utah</td>\n",
       "      <td>White</td>\n",
       "      <td>Volunteer</td>\n",
       "      <td>Not a Foreign National</td>\n",
       "      <td>West</td>\n",
       "      <td>Male</td>\n",
       "      <td>ExecutionsPS</td>\n",
       "    </tr>\n",
       "    <tr>\n",
       "      <th>1</th>\n",
       "      <td>White</td>\n",
       "      <td>Florida</td>\n",
       "      <td>White</td>\n",
       "      <td>Not a Volunteer</td>\n",
       "      <td>Not a Foreign National</td>\n",
       "      <td>South</td>\n",
       "      <td>Male</td>\n",
       "      <td>ExecutionsPS</td>\n",
       "    </tr>\n",
       "    <tr>\n",
       "      <th>2</th>\n",
       "      <td>White</td>\n",
       "      <td>Nevada</td>\n",
       "      <td>White</td>\n",
       "      <td>Volunteer</td>\n",
       "      <td>Not a Foreign National</td>\n",
       "      <td>West</td>\n",
       "      <td>Male</td>\n",
       "      <td>ExecutionsPS</td>\n",
       "    </tr>\n",
       "    <tr>\n",
       "      <th>3</th>\n",
       "      <td>White</td>\n",
       "      <td>Indiana</td>\n",
       "      <td>White</td>\n",
       "      <td>Volunteer</td>\n",
       "      <td>Not a Foreign National</td>\n",
       "      <td>Midwest</td>\n",
       "      <td>Male</td>\n",
       "      <td>ExecutionsPS</td>\n",
       "    </tr>\n",
       "    <tr>\n",
       "      <th>4</th>\n",
       "      <td>White</td>\n",
       "      <td>Virginia</td>\n",
       "      <td>White</td>\n",
       "      <td>Volunteer</td>\n",
       "      <td>Not a Foreign National</td>\n",
       "      <td>South</td>\n",
       "      <td>Male</td>\n",
       "      <td>ExecutionsPS</td>\n",
       "    </tr>\n",
       "  </tbody>\n",
       "</table>\n",
       "</div>"
      ],
      "text/plain": [
       "  Race of Victims (Multiple races including white)     State   Race  \\\n",
       "0                                            White      Utah  White   \n",
       "1                                            White   Florida  White   \n",
       "2                                            White    Nevada  White   \n",
       "3                                            White   Indiana  White   \n",
       "4                                            White  Virginia  White   \n",
       "\n",
       "  Execution Volunteer        Foreign National   Region   Sex    Table Name  \n",
       "0           Volunteer  Not a Foreign National     West  Male  ExecutionsPS  \n",
       "1     Not a Volunteer  Not a Foreign National    South  Male  ExecutionsPS  \n",
       "2           Volunteer  Not a Foreign National     West  Male  ExecutionsPS  \n",
       "3           Volunteer  Not a Foreign National  Midwest  Male  ExecutionsPS  \n",
       "4           Volunteer  Not a Foreign National    South  Male  ExecutionsPS  "
      ]
     },
     "execution_count": 3,
     "metadata": {},
     "output_type": "execute_result"
    }
   ],
   "source": [
    "df1.head()"
   ]
  },
  {
   "cell_type": "markdown",
   "metadata": {},
   "source": [
    "Sadece sanigin ve kurbanin irkinin siyah ve beyaz olmasi ve sanigin olum cezasi alip almayacagi ile ilgilendigimizden diger sutunlari dikkate almayacagiz. "
   ]
  },
  {
   "cell_type": "code",
   "execution_count": 4,
   "metadata": {},
   "outputs": [],
   "source": [
    "k=df1.loc[df1['Race of Victims (Multiple races including white)'].isin(['Black', 'White']) & \n",
    "       df1['Race'].isin(['Black', 'White'])]"
   ]
  },
  {
   "cell_type": "code",
   "execution_count": 5,
   "metadata": {},
   "outputs": [],
   "source": [
    "df=pd.crosstab([k['Race of Victims (Multiple races including white)'],k['Race'],k['Execution Volunteer']], k['Table Name'])"
   ]
  },
  {
   "cell_type": "code",
   "execution_count": 6,
   "metadata": {},
   "outputs": [
    {
     "data": {
      "text/html": [
       "<div>\n",
       "<style scoped>\n",
       "    .dataframe tbody tr th:only-of-type {\n",
       "        vertical-align: middle;\n",
       "    }\n",
       "\n",
       "    .dataframe tbody tr th {\n",
       "        vertical-align: top;\n",
       "    }\n",
       "\n",
       "    .dataframe thead th {\n",
       "        text-align: right;\n",
       "    }\n",
       "</style>\n",
       "<table border=\"1\" class=\"dataframe\">\n",
       "  <thead>\n",
       "    <tr style=\"text-align: right;\">\n",
       "      <th></th>\n",
       "      <th></th>\n",
       "      <th>Table Name</th>\n",
       "      <th>ExecutionsPS</th>\n",
       "    </tr>\n",
       "    <tr>\n",
       "      <th>Race of Victims (Multiple races including white)</th>\n",
       "      <th>Race</th>\n",
       "      <th>Execution Volunteer</th>\n",
       "      <th></th>\n",
       "    </tr>\n",
       "  </thead>\n",
       "  <tbody>\n",
       "    <tr>\n",
       "      <th rowspan=\"4\" valign=\"top\">Black</th>\n",
       "      <th rowspan=\"2\" valign=\"top\">Black</th>\n",
       "      <th>Not a Volunteer</th>\n",
       "      <td>174</td>\n",
       "    </tr>\n",
       "    <tr>\n",
       "      <th>Volunteer</th>\n",
       "      <td>2</td>\n",
       "    </tr>\n",
       "    <tr>\n",
       "      <th rowspan=\"2\" valign=\"top\">White</th>\n",
       "      <th>Not a Volunteer</th>\n",
       "      <td>18</td>\n",
       "    </tr>\n",
       "    <tr>\n",
       "      <th>Volunteer</th>\n",
       "      <td>3</td>\n",
       "    </tr>\n",
       "    <tr>\n",
       "      <th rowspan=\"4\" valign=\"top\">White</th>\n",
       "      <th rowspan=\"2\" valign=\"top\">Black</th>\n",
       "      <th>Not a Volunteer</th>\n",
       "      <td>289</td>\n",
       "    </tr>\n",
       "    <tr>\n",
       "      <th>Volunteer</th>\n",
       "      <td>5</td>\n",
       "    </tr>\n",
       "    <tr>\n",
       "      <th rowspan=\"2\" valign=\"top\">White</th>\n",
       "      <th>Not a Volunteer</th>\n",
       "      <td>659</td>\n",
       "    </tr>\n",
       "    <tr>\n",
       "      <th>Volunteer</th>\n",
       "      <td>116</td>\n",
       "    </tr>\n",
       "  </tbody>\n",
       "</table>\n",
       "</div>"
      ],
      "text/plain": [
       "Table Name                                                                  ExecutionsPS\n",
       "Race of Victims (Multiple races including white) Race  Execution Volunteer              \n",
       "Black                                            Black Not a Volunteer               174\n",
       "                                                       Volunteer                       2\n",
       "                                                 White Not a Volunteer                18\n",
       "                                                       Volunteer                       3\n",
       "White                                            Black Not a Volunteer               289\n",
       "                                                       Volunteer                       5\n",
       "                                                 White Not a Volunteer               659\n",
       "                                                       Volunteer                     116"
      ]
     },
     "execution_count": 6,
     "metadata": {},
     "output_type": "execute_result"
    }
   ],
   "source": [
    "df"
   ]
  },
  {
   "cell_type": "code",
   "execution_count": 7,
   "metadata": {},
   "outputs": [],
   "source": [
    "df=df.reset_index()"
   ]
  },
  {
   "cell_type": "code",
   "execution_count": 8,
   "metadata": {},
   "outputs": [
    {
     "data": {
      "text/html": [
       "<div>\n",
       "<style scoped>\n",
       "    .dataframe tbody tr th:only-of-type {\n",
       "        vertical-align: middle;\n",
       "    }\n",
       "\n",
       "    .dataframe tbody tr th {\n",
       "        vertical-align: top;\n",
       "    }\n",
       "\n",
       "    .dataframe thead th {\n",
       "        text-align: right;\n",
       "    }\n",
       "</style>\n",
       "<table border=\"1\" class=\"dataframe\">\n",
       "  <thead>\n",
       "    <tr style=\"text-align: right;\">\n",
       "      <th>Table Name</th>\n",
       "      <th>Race of Victims (Multiple races including white)</th>\n",
       "      <th>Race</th>\n",
       "      <th>Execution Volunteer</th>\n",
       "      <th>ExecutionsPS</th>\n",
       "    </tr>\n",
       "  </thead>\n",
       "  <tbody>\n",
       "    <tr>\n",
       "      <th>0</th>\n",
       "      <td>Black</td>\n",
       "      <td>Black</td>\n",
       "      <td>Not a Volunteer</td>\n",
       "      <td>174</td>\n",
       "    </tr>\n",
       "    <tr>\n",
       "      <th>1</th>\n",
       "      <td>Black</td>\n",
       "      <td>Black</td>\n",
       "      <td>Volunteer</td>\n",
       "      <td>2</td>\n",
       "    </tr>\n",
       "    <tr>\n",
       "      <th>2</th>\n",
       "      <td>Black</td>\n",
       "      <td>White</td>\n",
       "      <td>Not a Volunteer</td>\n",
       "      <td>18</td>\n",
       "    </tr>\n",
       "    <tr>\n",
       "      <th>3</th>\n",
       "      <td>Black</td>\n",
       "      <td>White</td>\n",
       "      <td>Volunteer</td>\n",
       "      <td>3</td>\n",
       "    </tr>\n",
       "    <tr>\n",
       "      <th>4</th>\n",
       "      <td>White</td>\n",
       "      <td>Black</td>\n",
       "      <td>Not a Volunteer</td>\n",
       "      <td>289</td>\n",
       "    </tr>\n",
       "    <tr>\n",
       "      <th>5</th>\n",
       "      <td>White</td>\n",
       "      <td>Black</td>\n",
       "      <td>Volunteer</td>\n",
       "      <td>5</td>\n",
       "    </tr>\n",
       "    <tr>\n",
       "      <th>6</th>\n",
       "      <td>White</td>\n",
       "      <td>White</td>\n",
       "      <td>Not a Volunteer</td>\n",
       "      <td>659</td>\n",
       "    </tr>\n",
       "    <tr>\n",
       "      <th>7</th>\n",
       "      <td>White</td>\n",
       "      <td>White</td>\n",
       "      <td>Volunteer</td>\n",
       "      <td>116</td>\n",
       "    </tr>\n",
       "  </tbody>\n",
       "</table>\n",
       "</div>"
      ],
      "text/plain": [
       "Table Name Race of Victims (Multiple races including white)   Race  \\\n",
       "0                                                     Black  Black   \n",
       "1                                                     Black  Black   \n",
       "2                                                     Black  White   \n",
       "3                                                     Black  White   \n",
       "4                                                     White  Black   \n",
       "5                                                     White  Black   \n",
       "6                                                     White  White   \n",
       "7                                                     White  White   \n",
       "\n",
       "Table Name Execution Volunteer  ExecutionsPS  \n",
       "0              Not a Volunteer           174  \n",
       "1                    Volunteer             2  \n",
       "2              Not a Volunteer            18  \n",
       "3                    Volunteer             3  \n",
       "4              Not a Volunteer           289  \n",
       "5                    Volunteer             5  \n",
       "6              Not a Volunteer           659  \n",
       "7                    Volunteer           116  "
      ]
     },
     "execution_count": 8,
     "metadata": {},
     "output_type": "execute_result"
    }
   ],
   "source": [
    "df"
   ]
  },
  {
   "cell_type": "code",
   "execution_count": 9,
   "metadata": {},
   "outputs": [],
   "source": [
    "table1=pd.crosstab(df[\"Race\"],df[\"Race of Victims (Multiple races including white)\"], values=df.ExecutionsPS, aggfunc='sum')"
   ]
  },
  {
   "cell_type": "code",
   "execution_count": 10,
   "metadata": {},
   "outputs": [],
   "source": [
    "table2=pd.crosstab(df[\"Race\"],df[\"Execution Volunteer\"], values=df.ExecutionsPS, aggfunc='sum')"
   ]
  },
  {
   "cell_type": "code",
   "execution_count": 11,
   "metadata": {},
   "outputs": [],
   "source": [
    "table3=pd.crosstab(df[\"Race of Victims (Multiple races including white)\"],df[\"Execution Volunteer\"], values=df.ExecutionsPS, aggfunc='sum')"
   ]
  },
  {
   "cell_type": "code",
   "execution_count": 12,
   "metadata": {},
   "outputs": [],
   "source": [
    "table1=table1.to_numpy();\n",
    "table2=table2.to_numpy();\n",
    "table3=table3.to_numpy();"
   ]
  },
  {
   "cell_type": "code",
   "execution_count": 13,
   "metadata": {},
   "outputs": [
    {
     "name": "stdout",
     "output_type": "stream",
     "text": [
      "[[176 294]\n",
      " [ 21 775]]\n"
     ]
    }
   ],
   "source": [
    "print(table1)"
   ]
  },
  {
   "cell_type": "code",
   "execution_count": 14,
   "metadata": {},
   "outputs": [
    {
     "name": "stdout",
     "output_type": "stream",
     "text": [
      "OddsR:  22.0926465824425 p-Value: 3.1069186869995866e-62\n"
     ]
    }
   ],
   "source": [
    "oddsratio, pvalue = stats.fisher_exact(table1)\n",
    "print(\"OddsR: \", oddsratio, \"p-Value:\", pvalue)"
   ]
  },
  {
   "cell_type": "code",
   "execution_count": 15,
   "metadata": {},
   "outputs": [
    {
     "name": "stdout",
     "output_type": "stream",
     "text": [
      "Sanigin irki biliniyorken kurbanin irkinin beyaz olmasi olasiligi siyah olmasi olasiliginin 22.09 katidir.\n"
     ]
    }
   ],
   "source": [
    "print('Sanigin irki biliniyorken kurbanin irkinin beyaz olmasi olasiligi siyah olmasi olasiliginin ' \n",
    "      + str(oddsratio.round(2))+ \n",
    "      ' katidir.')"
   ]
  },
  {
   "cell_type": "code",
   "execution_count": 16,
   "metadata": {},
   "outputs": [
    {
     "name": "stdout",
     "output_type": "stream",
     "text": [
      "[[463   7]\n",
      " [677 119]]\n"
     ]
    }
   ],
   "source": [
    "print(table2)"
   ]
  },
  {
   "cell_type": "code",
   "execution_count": 17,
   "metadata": {},
   "outputs": [
    {
     "name": "stdout",
     "output_type": "stream",
     "text": [
      "OddsR:  11.62629246676514 p-Value: 6.250720998771805e-18\n"
     ]
    }
   ],
   "source": [
    "oddsratio, pvalue = stats.fisher_exact(table2)\n",
    "print(\"OddsR: \", oddsratio, \"p-Value:\", pvalue)"
   ]
  },
  {
   "cell_type": "code",
   "execution_count": 18,
   "metadata": {},
   "outputs": [
    {
     "name": "stdout",
     "output_type": "stream",
     "text": [
      "Sanigin olum cezasi karari bilindiginde beyaz irkli saniklarin orani siyah irkli saniklarin oraninin 11.63 katidir.\n"
     ]
    }
   ],
   "source": [
    "print('Sanigin olum cezasi karari bilindiginde beyaz irkli saniklarin orani siyah irkli saniklarin oraninin ' \n",
    "      + str(oddsratio.round(2))+ \n",
    "      ' katidir.')"
   ]
  },
  {
   "cell_type": "code",
   "execution_count": 19,
   "metadata": {},
   "outputs": [
    {
     "name": "stdout",
     "output_type": "stream",
     "text": [
      "[[192   5]\n",
      " [948 121]]\n"
     ]
    }
   ],
   "source": [
    "print(table3)"
   ]
  },
  {
   "cell_type": "code",
   "execution_count": 20,
   "metadata": {},
   "outputs": [
    {
     "name": "stdout",
     "output_type": "stream",
     "text": [
      "OddsR:  4.9012658227848105 p-Value: 2.705871430488996e-05\n"
     ]
    }
   ],
   "source": [
    "oddsratio, pvalue = stats.fisher_exact(table3)\n",
    "print(\"OddsR: \", oddsratio, \"p-Value:\", pvalue)"
   ]
  },
  {
   "cell_type": "code",
   "execution_count": 21,
   "metadata": {},
   "outputs": [
    {
     "name": "stdout",
     "output_type": "stream",
     "text": [
      "Sanigin olum cezasi karari bilindiginde kurbanin beyaz olma olasiligi siyah olmasi olasiliginin 4.9 katidir.\n"
     ]
    }
   ],
   "source": [
    "print('Sanigin olum cezasi karari bilindiginde kurbanin beyaz olma olasiligi siyah olmasi olasiliginin ' \n",
    "      + str(oddsratio.round(2))+ \n",
    "      ' katidir.')"
   ]
  },
  {
   "cell_type": "markdown",
   "metadata": {},
   "source": [
    "# Sanigin Irki Sabit Tutuldugunda"
   ]
  },
  {
   "cell_type": "code",
   "execution_count": 22,
   "metadata": {},
   "outputs": [
    {
     "name": "stdout",
     "output_type": "stream",
     "text": [
      "OddsR:  0.8420454545454545 p-Value: 0.7666522940569249\n"
     ]
    }
   ],
   "source": [
    "sanik_beyaz_ise=df.loc[df[\"Race\"]=='White'];\n",
    "table4=pd.crosstab(sanik_beyaz_ise[\"Race of Victims (Multiple races including white)\"],sanik_beyaz_ise[\"Execution Volunteer\"], values=sanik_beyaz_ise.ExecutionsPS, aggfunc='sum');\n",
    "table4=table4.to_numpy();\n",
    "table4=table4+1;\n",
    "oddsratio, pvalue = stats.fisher_exact(table4)\n",
    "print(\"OddsR: \", oddsratio, \"p-Value:\", pvalue);"
   ]
  },
  {
   "cell_type": "code",
   "execution_count": 23,
   "metadata": {},
   "outputs": [
    {
     "data": {
      "text/plain": [
       "array([[ 19,   4],\n",
       "       [660, 117]], dtype=int64)"
      ]
     },
     "execution_count": 23,
     "metadata": {},
     "output_type": "execute_result"
    }
   ],
   "source": [
    "table4"
   ]
  },
  {
   "cell_type": "code",
   "execution_count": 24,
   "metadata": {},
   "outputs": [
    {
     "name": "stdout",
     "output_type": "stream",
     "text": [
      "Sanigin olum cezasi karari bilindiginde kurbanin beyaz olma olasiligi siyah olmasi olasiliginin 0.84 katidir.\n"
     ]
    }
   ],
   "source": [
    "print('Sanigin olum cezasi karari bilindiginde kurbanin beyaz olma olasiligi siyah olmasi olasiliginin ' \n",
    "      + str(oddsratio.round(2))+ \n",
    "      ' katidir.')"
   ]
  },
  {
   "cell_type": "code",
   "execution_count": 25,
   "metadata": {},
   "outputs": [
    {
     "name": "stdout",
     "output_type": "stream",
     "text": [
      "OddsR:  1.505190311418685 p-Value: 1.0\n"
     ]
    }
   ],
   "source": [
    "sanik_siyah_ise=df.loc[df[\"Race\"]=='Black'];\n",
    "table5=pd.crosstab(sanik_siyah_ise[\"Race of Victims (Multiple races including white)\"],sanik_siyah_ise[\"Execution Volunteer\"], values=sanik_siyah_ise.ExecutionsPS, aggfunc='sum');\n",
    "table5=table5.to_numpy();\n",
    "oddsratio, pvalue = stats.fisher_exact(table5)\n",
    "print(\"OddsR: \", oddsratio, \"p-Value:\", pvalue);"
   ]
  },
  {
   "cell_type": "code",
   "execution_count": 26,
   "metadata": {},
   "outputs": [
    {
     "name": "stdout",
     "output_type": "stream",
     "text": [
      "Sanigin olum cezasi karari bilindiginde kurbanin siyah olma olasiligi beyaz olmasi olasiliginin 1.51 katidir.\n"
     ]
    }
   ],
   "source": [
    "print('Sanigin olum cezasi karari bilindiginde kurbanin siyah olma olasiligi beyaz olmasi olasiliginin ' \n",
    "      + str(oddsratio.round(2))+ \n",
    "      ' katidir.')"
   ]
  },
  {
   "cell_type": "markdown",
   "metadata": {},
   "source": [
    "# Kurbanin Irki Sabit Tutuldugunda"
   ]
  },
  {
   "cell_type": "code",
   "execution_count": 27,
   "metadata": {},
   "outputs": [
    {
     "name": "stdout",
     "output_type": "stream",
     "text": [
      "OddsR:  11.62629246676514 p-Value: 6.250720998771805e-18\n"
     ]
    }
   ],
   "source": [
    "kurban_beyaz_ise=df.loc[df[\"Race of Victims (Multiple races including white)\"]=='White']\n",
    "table6=pd.crosstab(df[\"Race\"],df[\"Execution Volunteer\"], values=df.ExecutionsPS, aggfunc='sum');\n",
    "table6=table6.to_numpy();\n",
    "oddsratio, pvalue = stats.fisher_exact(table6)\n",
    "print(\"OddsR: \", oddsratio, \"p-Value:\", pvalue);"
   ]
  },
  {
   "cell_type": "code",
   "execution_count": 28,
   "metadata": {},
   "outputs": [
    {
     "data": {
      "text/plain": [
       "array([[463,   7],\n",
       "       [677, 119]], dtype=int64)"
      ]
     },
     "execution_count": 28,
     "metadata": {},
     "output_type": "execute_result"
    }
   ],
   "source": [
    "table6"
   ]
  },
  {
   "cell_type": "code",
   "execution_count": 29,
   "metadata": {},
   "outputs": [
    {
     "name": "stdout",
     "output_type": "stream",
     "text": [
      "Kurbanin beyaz oldugu ve sanigin olum cezasi karari bilindiginde sanigin beyaz olmasi siyah olma olasikliginin 11.63 katidir.\n"
     ]
    }
   ],
   "source": [
    "print('Kurbanin beyaz oldugu ve sanigin olum cezasi karari bilindiginde sanigin beyaz olmasi siyah olma olasikliginin ' \n",
    "      + str(oddsratio.round(2))+ \n",
    "      ' katidir.')"
   ]
  },
  {
   "cell_type": "code",
   "execution_count": 30,
   "metadata": {},
   "outputs": [
    {
     "name": "stdout",
     "output_type": "stream",
     "text": [
      "OddsR:  14.5 p-Value: 0.009175455013714083\n"
     ]
    }
   ],
   "source": [
    "kurban_siyah_ise=df.loc[df[\"Race of Victims (Multiple races including white)\"]=='Black']\n",
    "table7=pd.crosstab(kurban_siyah_ise[\"Race\"],kurban_siyah_ise[\"Execution Volunteer\"], values=kurban_siyah_ise.ExecutionsPS, aggfunc='sum');\n",
    "table7=table7.to_numpy();\n",
    "oddsratio, pvalue = stats.fisher_exact(table7)\n",
    "print(\"OddsR: \", oddsratio, \"p-Value:\", pvalue);"
   ]
  },
  {
   "cell_type": "code",
   "execution_count": 31,
   "metadata": {},
   "outputs": [
    {
     "data": {
      "text/plain": [
       "array([[174,   2],\n",
       "       [ 18,   3]], dtype=int64)"
      ]
     },
     "execution_count": 31,
     "metadata": {},
     "output_type": "execute_result"
    }
   ],
   "source": [
    "table7"
   ]
  },
  {
   "cell_type": "code",
   "execution_count": 32,
   "metadata": {},
   "outputs": [
    {
     "name": "stdout",
     "output_type": "stream",
     "text": [
      "Kurbanin siyah oldugu ve sanigin olum cezasi karari bilindiginde sanigin beyaz olmasi siyah olma olasikliginin 14.5 katidir.\n"
     ]
    }
   ],
   "source": [
    "print('Kurbanin siyah oldugu ve sanigin olum cezasi karari bilindiginde sanigin beyaz olmasi siyah olma olasikliginin ' \n",
    "      + str(oddsratio.round(2))+ \n",
    "      ' katidir.')"
   ]
  },
  {
   "cell_type": "markdown",
   "metadata": {},
   "source": [
    "# Olum Cezasi Sabit Tutuldugunda"
   ]
  },
  {
   "cell_type": "code",
   "execution_count": 33,
   "metadata": {},
   "outputs": [
    {
     "name": "stdout",
     "output_type": "stream",
     "text": [
      "OddsR:  15.466666666666667 p-Value: 0.0245682372212405\n"
     ]
    }
   ],
   "source": [
    "olum_cezasi_aldi_ise=df.loc[df[\"Execution Volunteer\"]=='Volunteer']\n",
    "table8=pd.crosstab(olum_cezasi_aldi_ise[\"Race\"],olum_cezasi_aldi_ise[\"Race of Victims (Multiple races including white)\"], values=olum_cezasi_aldi_ise.ExecutionsPS, aggfunc='sum');\n",
    "table8=table8.to_numpy();\n",
    "table8=table8+0.5;\n",
    "oddsratio, pvalue = stats.fisher_exact(table8)\n",
    "print(\"OddsR: \", oddsratio, \"p-Value:\", pvalue);"
   ]
  },
  {
   "cell_type": "code",
   "execution_count": 34,
   "metadata": {},
   "outputs": [
    {
     "data": {
      "text/plain": [
       "array([[  2.5,   5.5],\n",
       "       [  3.5, 116.5]])"
      ]
     },
     "execution_count": 34,
     "metadata": {},
     "output_type": "execute_result"
    }
   ],
   "source": [
    "table8"
   ]
  },
  {
   "cell_type": "code",
   "execution_count": 35,
   "metadata": {},
   "outputs": [
    {
     "name": "stdout",
     "output_type": "stream",
     "text": [
      "Sanigin olum cezasi aldigi ve irkinin beyaz oldugu biliniyorken kurbanin beyaz olma olasiligi  15.47 katidir.\n"
     ]
    }
   ],
   "source": [
    "print('Sanigin olum cezasi aldigi ve irkinin beyaz oldugu biliniyorken kurbanin beyaz olma olasiligi  ' \n",
    "      + str(oddsratio.round(2))+ \n",
    "      ' katidir.')"
   ]
  },
  {
   "cell_type": "code",
   "execution_count": 36,
   "metadata": {},
   "outputs": [
    {
     "name": "stdout",
     "output_type": "stream",
     "text": [
      "OddsR:  22.042675893886965 p-Value: 6.228333370385627e-57\n"
     ]
    }
   ],
   "source": [
    "olum_cezasi_almadi_ise=df.loc[df[\"Execution Volunteer\"]=='Not a Volunteer']\n",
    "table9=pd.crosstab(olum_cezasi_almadi_ise[\"Race\"],olum_cezasi_almadi_ise[\"Race of Victims (Multiple races including white)\"], values=olum_cezasi_almadi_ise.ExecutionsPS, aggfunc='sum');\n",
    "table9=table9.to_numpy();\n",
    "oddsratio, pvalue = stats.fisher_exact(table9)\n",
    "print(\"OddsR: \", oddsratio, \"p-Value:\", pvalue);"
   ]
  },
  {
   "cell_type": "code",
   "execution_count": 37,
   "metadata": {},
   "outputs": [
    {
     "data": {
      "text/plain": [
       "array([[174, 289],\n",
       "       [ 18, 659]], dtype=int64)"
      ]
     },
     "execution_count": 37,
     "metadata": {},
     "output_type": "execute_result"
    }
   ],
   "source": [
    "table9"
   ]
  },
  {
   "cell_type": "code",
   "execution_count": 38,
   "metadata": {},
   "outputs": [
    {
     "name": "stdout",
     "output_type": "stream",
     "text": [
      "Sanigin olum cezasi aldigi ve irkinin beyaz oldugu biliniyorken kurbanin siyah olma olasiligi  22.04 katidir.\n"
     ]
    }
   ],
   "source": [
    "print('Sanigin olum cezasi aldigi ve irkinin beyaz oldugu biliniyorken kurbanin siyah olma olasiligi  ' \n",
    "      + str(oddsratio.round(2))+ \n",
    "      ' katidir.')"
   ]
  }
 ],
 "metadata": {
  "kernelspec": {
   "display_name": "Python 3",
   "language": "python",
   "name": "python3"
  },
  "language_info": {
   "codemirror_mode": {
    "name": "ipython",
    "version": 3
   },
   "file_extension": ".py",
   "mimetype": "text/x-python",
   "name": "python",
   "nbconvert_exporter": "python",
   "pygments_lexer": "ipython3",
   "version": "3.7.6"
  }
 },
 "nbformat": 4,
 "nbformat_minor": 4
}
